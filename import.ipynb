{
 "cells": [
  {
   "cell_type": "code",
   "execution_count": 33,
   "metadata": {},
   "outputs": [],
   "source": [
    "import pandas as pd\n",
    "import numpy as np"
   ]
  },
  {
   "cell_type": "markdown",
   "metadata": {},
   "source": [
    "# Import Data"
   ]
  },
  {
   "cell_type": "code",
   "execution_count": 20,
   "metadata": {},
   "outputs": [
    {
     "data": {
      "text/plain": [
       "['crowdfunding_info', 'contact_info']"
      ]
     },
     "execution_count": 20,
     "metadata": {},
     "output_type": "execute_result"
    }
   ],
   "source": [
    "#Read data into a Pandas dataframe\n",
    "crowdfunding = pd.ExcelFile('crowdfunding.xlsx')\n",
    "\n",
    "#Get the sheet names\n",
    "crowdfunding.sheet_names"
   ]
  },
  {
   "cell_type": "code",
   "execution_count": 21,
   "metadata": {},
   "outputs": [
    {
     "data": {
      "text/html": [
       "<div>\n",
       "<style scoped>\n",
       "    .dataframe tbody tr th:only-of-type {\n",
       "        vertical-align: middle;\n",
       "    }\n",
       "\n",
       "    .dataframe tbody tr th {\n",
       "        vertical-align: top;\n",
       "    }\n",
       "\n",
       "    .dataframe thead th {\n",
       "        text-align: right;\n",
       "    }\n",
       "</style>\n",
       "<table border=\"1\" class=\"dataframe\">\n",
       "  <thead>\n",
       "    <tr style=\"text-align: right;\">\n",
       "      <th></th>\n",
       "      <th>cf_id</th>\n",
       "      <th>company_name</th>\n",
       "      <th>blurb</th>\n",
       "      <th>goal</th>\n",
       "      <th>pledged</th>\n",
       "      <th>outcome</th>\n",
       "      <th>backers_count</th>\n",
       "      <th>country</th>\n",
       "      <th>currency</th>\n",
       "      <th>launched_at</th>\n",
       "      <th>deadline</th>\n",
       "      <th>staff_pick</th>\n",
       "      <th>spotlight</th>\n",
       "      <th>category &amp; sub-category</th>\n",
       "    </tr>\n",
       "  </thead>\n",
       "  <tbody>\n",
       "    <tr>\n",
       "      <th>20</th>\n",
       "      <td>118</td>\n",
       "      <td>Reeves, Thompson and Richardson</td>\n",
       "      <td>Proactive composite alliance</td>\n",
       "      <td>131800</td>\n",
       "      <td>147936</td>\n",
       "      <td>successful</td>\n",
       "      <td>1396</td>\n",
       "      <td>US</td>\n",
       "      <td>USD</td>\n",
       "      <td>1586667600</td>\n",
       "      <td>1617944400</td>\n",
       "      <td>False</td>\n",
       "      <td>False</td>\n",
       "      <td>film &amp; video/drama</td>\n",
       "    </tr>\n",
       "    <tr>\n",
       "      <th>85</th>\n",
       "      <td>2181</td>\n",
       "      <td>Hill, Lawson and Wilkinson</td>\n",
       "      <td>Multi-tiered eco-centric architecture</td>\n",
       "      <td>4900</td>\n",
       "      <td>6430</td>\n",
       "      <td>successful</td>\n",
       "      <td>71</td>\n",
       "      <td>AU</td>\n",
       "      <td>AUD</td>\n",
       "      <td>1622264400</td>\n",
       "      <td>1629435600</td>\n",
       "      <td>False</td>\n",
       "      <td>False</td>\n",
       "      <td>music/indie rock</td>\n",
       "    </tr>\n",
       "    <tr>\n",
       "      <th>631</th>\n",
       "      <td>536</td>\n",
       "      <td>Carlson-Hernandez</td>\n",
       "      <td>Quality-focused real-time solution</td>\n",
       "      <td>59200</td>\n",
       "      <td>183756</td>\n",
       "      <td>successful</td>\n",
       "      <td>3063</td>\n",
       "      <td>US</td>\n",
       "      <td>USD</td>\n",
       "      <td>1629522000</td>\n",
       "      <td>1643176800</td>\n",
       "      <td>False</td>\n",
       "      <td>False</td>\n",
       "      <td>theater/plays</td>\n",
       "    </tr>\n",
       "    <tr>\n",
       "      <th>400</th>\n",
       "      <td>2432</td>\n",
       "      <td>Bell PLC</td>\n",
       "      <td>Ergonomic eco-centric open architecture</td>\n",
       "      <td>100</td>\n",
       "      <td>2</td>\n",
       "      <td>failed</td>\n",
       "      <td>1</td>\n",
       "      <td>US</td>\n",
       "      <td>USD</td>\n",
       "      <td>1633582800</td>\n",
       "      <td>1637820000</td>\n",
       "      <td>False</td>\n",
       "      <td>True</td>\n",
       "      <td>photography/photography books</td>\n",
       "    </tr>\n",
       "    <tr>\n",
       "      <th>34</th>\n",
       "      <td>1546</td>\n",
       "      <td>Maldonado and Sons</td>\n",
       "      <td>Reverse-engineered asynchronous archive</td>\n",
       "      <td>9300</td>\n",
       "      <td>14025</td>\n",
       "      <td>successful</td>\n",
       "      <td>165</td>\n",
       "      <td>US</td>\n",
       "      <td>USD</td>\n",
       "      <td>1611640800</td>\n",
       "      <td>1639116000</td>\n",
       "      <td>False</td>\n",
       "      <td>False</td>\n",
       "      <td>film &amp; video/documentary</td>\n",
       "    </tr>\n",
       "  </tbody>\n",
       "</table>\n",
       "</div>"
      ],
      "text/plain": [
       "     cf_id                     company_name  \\\n",
       "20     118  Reeves, Thompson and Richardson   \n",
       "85    2181       Hill, Lawson and Wilkinson   \n",
       "631    536                Carlson-Hernandez   \n",
       "400   2432                         Bell PLC   \n",
       "34    1546               Maldonado and Sons   \n",
       "\n",
       "                                       blurb    goal  pledged     outcome  \\\n",
       "20              Proactive composite alliance  131800   147936  successful   \n",
       "85     Multi-tiered eco-centric architecture    4900     6430  successful   \n",
       "631       Quality-focused real-time solution   59200   183756  successful   \n",
       "400  Ergonomic eco-centric open architecture     100        2      failed   \n",
       "34   Reverse-engineered asynchronous archive    9300    14025  successful   \n",
       "\n",
       "     backers_count country currency  launched_at    deadline  staff_pick  \\\n",
       "20            1396      US      USD   1586667600  1617944400       False   \n",
       "85              71      AU      AUD   1622264400  1629435600       False   \n",
       "631           3063      US      USD   1629522000  1643176800       False   \n",
       "400              1      US      USD   1633582800  1637820000       False   \n",
       "34             165      US      USD   1611640800  1639116000       False   \n",
       "\n",
       "     spotlight        category & sub-category  \n",
       "20       False             film & video/drama  \n",
       "85       False               music/indie rock  \n",
       "631      False                  theater/plays  \n",
       "400       True  photography/photography books  \n",
       "34       False       film & video/documentary  "
      ]
     },
     "execution_count": 21,
     "metadata": {},
     "output_type": "execute_result"
    }
   ],
   "source": [
    "#Import worksheets as dataframes\n",
    "crowdfunding_info_df = pd.read_excel(crowdfunding, sheet_name='crowdfunding_info')\n",
    "crowdfunding_info_df.sample(5)"
   ]
  },
  {
   "cell_type": "code",
   "execution_count": 22,
   "metadata": {},
   "outputs": [
    {
     "name": "stdout",
     "output_type": "stream",
     "text": [
      "<class 'pandas.core.frame.DataFrame'>\n",
      "RangeIndex: 1000 entries, 0 to 999\n",
      "Data columns (total 14 columns):\n",
      " #   Column                   Non-Null Count  Dtype \n",
      "---  ------                   --------------  ----- \n",
      " 0   cf_id                    1000 non-null   int64 \n",
      " 1   company_name             1000 non-null   object\n",
      " 2   blurb                    1000 non-null   object\n",
      " 3   goal                     1000 non-null   int64 \n",
      " 4   pledged                  1000 non-null   int64 \n",
      " 5   outcome                  1000 non-null   object\n",
      " 6   backers_count            1000 non-null   int64 \n",
      " 7   country                  1000 non-null   object\n",
      " 8   currency                 1000 non-null   object\n",
      " 9   launched_at              1000 non-null   int64 \n",
      " 10  deadline                 1000 non-null   int64 \n",
      " 11  staff_pick               1000 non-null   bool  \n",
      " 12  spotlight                1000 non-null   bool  \n",
      " 13  category & sub-category  1000 non-null   object\n",
      "dtypes: bool(2), int64(6), object(6)\n",
      "memory usage: 95.8+ KB\n"
     ]
    }
   ],
   "source": [
    "crowdfunding_info_df.info()"
   ]
  },
  {
   "cell_type": "code",
   "execution_count": 23,
   "metadata": {},
   "outputs": [
    {
     "data": {
      "text/html": [
       "<div>\n",
       "<style scoped>\n",
       "    .dataframe tbody tr th:only-of-type {\n",
       "        vertical-align: middle;\n",
       "    }\n",
       "\n",
       "    .dataframe tbody tr th {\n",
       "        vertical-align: top;\n",
       "    }\n",
       "\n",
       "    .dataframe thead th {\n",
       "        text-align: right;\n",
       "    }\n",
       "</style>\n",
       "<table border=\"1\" class=\"dataframe\">\n",
       "  <thead>\n",
       "    <tr style=\"text-align: right;\">\n",
       "      <th></th>\n",
       "      <th>contact_info</th>\n",
       "    </tr>\n",
       "  </thead>\n",
       "  <tbody>\n",
       "    <tr>\n",
       "      <th>994</th>\n",
       "      <td>{\"contact_id\": 5262, \"name\": \"Guadalupe Munoz\", \"email\": \"guadalupe.munoz@murray-hamilton.com.au\"}</td>\n",
       "    </tr>\n",
       "    <tr>\n",
       "      <th>584</th>\n",
       "      <td>{\"contact_id\": 1651, \"name\": \"Conchita Pagliaro\", \"email\": \"conchita.pagliaro@googlemail.com\"}</td>\n",
       "    </tr>\n",
       "    <tr>\n",
       "      <th>780</th>\n",
       "      <td>{\"contact_id\": 1312, \"name\": \"Wolf Lutz\", \"email\": \"wolf.lutz@nichols-jackson.com.au\"}</td>\n",
       "    </tr>\n",
       "    <tr>\n",
       "      <th>285</th>\n",
       "      <td>{\"contact_id\": 2830, \"name\": \"Rose Blanc\", \"email\": \"rose.blanc@grupo.com\"}</td>\n",
       "    </tr>\n",
       "    <tr>\n",
       "      <th>362</th>\n",
       "      <td>{\"contact_id\": 2140, \"name\": \"Walli Albert\", \"email\": \"walli.albert@dussen.com\"}</td>\n",
       "    </tr>\n",
       "  </tbody>\n",
       "</table>\n",
       "</div>"
      ],
      "text/plain": [
       "                                                                                           contact_info\n",
       "994  {\"contact_id\": 5262, \"name\": \"Guadalupe Munoz\", \"email\": \"guadalupe.munoz@murray-hamilton.com.au\"}\n",
       "584      {\"contact_id\": 1651, \"name\": \"Conchita Pagliaro\", \"email\": \"conchita.pagliaro@googlemail.com\"}\n",
       "780              {\"contact_id\": 1312, \"name\": \"Wolf Lutz\", \"email\": \"wolf.lutz@nichols-jackson.com.au\"}\n",
       "285                         {\"contact_id\": 2830, \"name\": \"Rose Blanc\", \"email\": \"rose.blanc@grupo.com\"}\n",
       "362                    {\"contact_id\": 2140, \"name\": \"Walli Albert\", \"email\": \"walli.albert@dussen.com\"}"
      ]
     },
     "execution_count": 23,
     "metadata": {},
     "output_type": "execute_result"
    }
   ],
   "source": [
    "#Import worksheets as dataframes\n",
    "#increase the width of the column\n",
    "pd.set_option('max_colwidth', 400)\n",
    "contact_info_df = pd.read_excel(crowdfunding, sheet_name='contact_info', header=3)\n",
    "contact_info_df.sample(5)"
   ]
  },
  {
   "cell_type": "code",
   "execution_count": 24,
   "metadata": {},
   "outputs": [
    {
     "name": "stdout",
     "output_type": "stream",
     "text": [
      "<class 'pandas.core.frame.DataFrame'>\n",
      "RangeIndex: 1000 entries, 0 to 999\n",
      "Data columns (total 1 columns):\n",
      " #   Column        Non-Null Count  Dtype \n",
      "---  ------        --------------  ----- \n",
      " 0   contact_info  1000 non-null   object\n",
      "dtypes: object(1)\n",
      "memory usage: 7.9+ KB\n"
     ]
    }
   ],
   "source": [
    "contact_info_df.info()"
   ]
  },
  {
   "cell_type": "markdown",
   "metadata": {},
   "source": [
    "# Extract Data"
   ]
  },
  {
   "cell_type": "markdown",
   "metadata": {},
   "source": [
    "### Restructure the data to create category and subcategory dataframes"
   ]
  },
  {
   "cell_type": "code",
   "execution_count": 25,
   "metadata": {},
   "outputs": [
    {
     "data": {
      "text/plain": [
       "array(['food/food trucks', 'music/rock', 'technology/web',\n",
       "       'theater/plays', 'film & video/documentary',\n",
       "       'music/electric music', 'film & video/drama', 'music/indie rock',\n",
       "       'technology/wearables', 'publishing/nonfiction',\n",
       "       'film & video/animation', 'games/video games',\n",
       "       'film & video/shorts', 'publishing/fiction',\n",
       "       'photography/photography books', 'publishing/radio & podcasts',\n",
       "       'music/metal', 'music/jazz', 'publishing/translations',\n",
       "       'film & video/television', 'games/mobile games',\n",
       "       'music/world music', 'film & video/science fiction',\n",
       "       'journalism/audio'], dtype=object)"
      ]
     },
     "execution_count": 25,
     "metadata": {},
     "output_type": "execute_result"
    }
   ],
   "source": [
    "#Get the unique values in the category and sub-category column\n",
    "crowdfunding_info_df['category & sub-category'].unique()"
   ]
  },
  {
   "cell_type": "code",
   "execution_count": 26,
   "metadata": {},
   "outputs": [
    {
     "data": {
      "text/html": [
       "<div>\n",
       "<style scoped>\n",
       "    .dataframe tbody tr th:only-of-type {\n",
       "        vertical-align: middle;\n",
       "    }\n",
       "\n",
       "    .dataframe tbody tr th {\n",
       "        vertical-align: top;\n",
       "    }\n",
       "\n",
       "    .dataframe thead th {\n",
       "        text-align: right;\n",
       "    }\n",
       "</style>\n",
       "<table border=\"1\" class=\"dataframe\">\n",
       "  <thead>\n",
       "    <tr style=\"text-align: right;\">\n",
       "      <th></th>\n",
       "      <th>cf_id</th>\n",
       "      <th>company_name</th>\n",
       "      <th>blurb</th>\n",
       "      <th>goal</th>\n",
       "      <th>pledged</th>\n",
       "      <th>outcome</th>\n",
       "      <th>backers_count</th>\n",
       "      <th>country</th>\n",
       "      <th>currency</th>\n",
       "      <th>launched_at</th>\n",
       "      <th>deadline</th>\n",
       "      <th>staff_pick</th>\n",
       "      <th>spotlight</th>\n",
       "      <th>category &amp; sub-category</th>\n",
       "      <th>category</th>\n",
       "      <th>sub-category</th>\n",
       "    </tr>\n",
       "  </thead>\n",
       "  <tbody>\n",
       "    <tr>\n",
       "      <th>688</th>\n",
       "      <td>1234</td>\n",
       "      <td>Bowen, Davies and Burns</td>\n",
       "      <td>Devolved client-server monitoring</td>\n",
       "      <td>2900</td>\n",
       "      <td>12449</td>\n",
       "      <td>successful</td>\n",
       "      <td>175</td>\n",
       "      <td>US</td>\n",
       "      <td>USD</td>\n",
       "      <td>1610949600</td>\n",
       "      <td>1628917200</td>\n",
       "      <td>False</td>\n",
       "      <td>True</td>\n",
       "      <td>film &amp; video/television</td>\n",
       "      <td>film &amp; video</td>\n",
       "      <td>television</td>\n",
       "    </tr>\n",
       "    <tr>\n",
       "      <th>721</th>\n",
       "      <td>1780</td>\n",
       "      <td>Dominguez-Owens</td>\n",
       "      <td>Open-architected systematic intranet</td>\n",
       "      <td>123600</td>\n",
       "      <td>5429</td>\n",
       "      <td>canceled</td>\n",
       "      <td>60</td>\n",
       "      <td>US</td>\n",
       "      <td>USD</td>\n",
       "      <td>1626411600</td>\n",
       "      <td>1629176400</td>\n",
       "      <td>False</td>\n",
       "      <td>False</td>\n",
       "      <td>music/rock</td>\n",
       "      <td>music</td>\n",
       "      <td>rock</td>\n",
       "    </tr>\n",
       "    <tr>\n",
       "      <th>62</th>\n",
       "      <td>1969</td>\n",
       "      <td>Sparks-West</td>\n",
       "      <td>Organized incremental standardization</td>\n",
       "      <td>2000</td>\n",
       "      <td>14452</td>\n",
       "      <td>successful</td>\n",
       "      <td>249</td>\n",
       "      <td>US</td>\n",
       "      <td>USD</td>\n",
       "      <td>1629349200</td>\n",
       "      <td>1637474400</td>\n",
       "      <td>False</td>\n",
       "      <td>False</td>\n",
       "      <td>technology/web</td>\n",
       "      <td>technology</td>\n",
       "      <td>web</td>\n",
       "    </tr>\n",
       "    <tr>\n",
       "      <th>17</th>\n",
       "      <td>2550</td>\n",
       "      <td>Cochran-Nguyen</td>\n",
       "      <td>Seamless 4thgeneration methodology</td>\n",
       "      <td>84600</td>\n",
       "      <td>134845</td>\n",
       "      <td>successful</td>\n",
       "      <td>1249</td>\n",
       "      <td>US</td>\n",
       "      <td>USD</td>\n",
       "      <td>1586667600</td>\n",
       "      <td>1616562000</td>\n",
       "      <td>False</td>\n",
       "      <td>False</td>\n",
       "      <td>film &amp; video/animation</td>\n",
       "      <td>film &amp; video</td>\n",
       "      <td>animation</td>\n",
       "    </tr>\n",
       "    <tr>\n",
       "      <th>109</th>\n",
       "      <td>1179</td>\n",
       "      <td>Romero and Sons</td>\n",
       "      <td>Object-based client-server application</td>\n",
       "      <td>5200</td>\n",
       "      <td>3079</td>\n",
       "      <td>failed</td>\n",
       "      <td>60</td>\n",
       "      <td>US</td>\n",
       "      <td>USD</td>\n",
       "      <td>1601528400</td>\n",
       "      <td>1623474000</td>\n",
       "      <td>False</td>\n",
       "      <td>False</td>\n",
       "      <td>film &amp; video/television</td>\n",
       "      <td>film &amp; video</td>\n",
       "      <td>television</td>\n",
       "    </tr>\n",
       "  </tbody>\n",
       "</table>\n",
       "</div>"
      ],
      "text/plain": [
       "     cf_id             company_name                                   blurb  \\\n",
       "688   1234  Bowen, Davies and Burns       Devolved client-server monitoring   \n",
       "721   1780          Dominguez-Owens    Open-architected systematic intranet   \n",
       "62    1969              Sparks-West   Organized incremental standardization   \n",
       "17    2550           Cochran-Nguyen      Seamless 4thgeneration methodology   \n",
       "109   1179          Romero and Sons  Object-based client-server application   \n",
       "\n",
       "       goal  pledged     outcome  backers_count country currency  launched_at  \\\n",
       "688    2900    12449  successful            175      US      USD   1610949600   \n",
       "721  123600     5429    canceled             60      US      USD   1626411600   \n",
       "62     2000    14452  successful            249      US      USD   1629349200   \n",
       "17    84600   134845  successful           1249      US      USD   1586667600   \n",
       "109    5200     3079      failed             60      US      USD   1601528400   \n",
       "\n",
       "       deadline  staff_pick  spotlight  category & sub-category      category  \\\n",
       "688  1628917200       False       True  film & video/television  film & video   \n",
       "721  1629176400       False      False               music/rock         music   \n",
       "62   1637474400       False      False           technology/web    technology   \n",
       "17   1616562000       False      False   film & video/animation  film & video   \n",
       "109  1623474000       False      False  film & video/television  film & video   \n",
       "\n",
       "    sub-category  \n",
       "688   television  \n",
       "721         rock  \n",
       "62           web  \n",
       "17     animation  \n",
       "109   television  "
      ]
     },
     "execution_count": 26,
     "metadata": {},
     "output_type": "execute_result"
    }
   ],
   "source": [
    "#Assign the category and sub-category values to respective columns\n",
    "crowdfunding_info_df[['category', 'sub-category']] = crowdfunding_info_df['category & sub-category'].str.split('/', n=1, expand=True)\n",
    "crowdfunding_info_df.sample(5)"
   ]
  },
  {
   "cell_type": "code",
   "execution_count": 27,
   "metadata": {},
   "outputs": [
    {
     "name": "stdout",
     "output_type": "stream",
     "text": [
      "9\n",
      "24\n"
     ]
    }
   ],
   "source": [
    "#Get the distinct values in category and sub-category columns\n",
    "print(crowdfunding_info_df['category'].nunique())\n",
    "print(crowdfunding_info_df['sub-category'].nunique())"
   ]
  },
  {
   "cell_type": "code",
   "execution_count": 32,
   "metadata": {},
   "outputs": [
    {
     "name": "stdout",
     "output_type": "stream",
     "text": [
      "['food' 'music' 'technology' 'theater' 'film & video' 'publishing' 'games'\n",
      " 'photography' 'journalism'] \n",
      "\n",
      " ['food trucks' 'rock' 'web' 'plays' 'documentary' 'electric music' 'drama'\n",
      " 'indie rock' 'wearables' 'nonfiction' 'animation' 'video games' 'shorts'\n",
      " 'fiction' 'photography books' 'radio & podcasts' 'metal' 'jazz'\n",
      " 'translations' 'television' 'mobile games' 'world music'\n",
      " 'science fiction' 'audio']\n"
     ]
    }
   ],
   "source": [
    "#Get the unique categories and sub-categories in separate lists\n",
    "categories = crowdfunding_info_df['category'].unique()\n",
    "subcategories = crowdfunding_info_df['sub-category'].unique()\n",
    "\n",
    "print(categories,  '\\n\\n', subcategories)"
   ]
  },
  {
   "cell_type": "code",
   "execution_count": 34,
   "metadata": {},
   "outputs": [],
   "source": [
    "#Create numpy arrays that have 1-10 for the category_ids and 1-25 for the sub-category_ids\n",
    "category_ids = np.arange(1, 10)\n",
    "subcategory_ids = np.arange(1, 25)"
   ]
  },
  {
   "cell_type": "code",
   "execution_count": 39,
   "metadata": {},
   "outputs": [
    {
     "name": "stdout",
     "output_type": "stream",
     "text": [
      "['cat01', 'cat02', 'cat03', 'cat04', 'cat05', 'cat06', 'cat07', 'cat08', 'cat09']\n",
      "['cat01', 'cat02', 'cat03', 'cat04', 'cat05', 'cat06', 'cat07', 'cat08', 'cat09', 'cat010', 'cat011', 'cat012', 'cat013', 'cat014', 'cat015', 'cat016', 'cat017', 'cat018', 'cat019', 'cat020', 'cat021', 'cat022', 'cat023', 'cat024']\n"
     ]
    }
   ],
   "source": [
    "#Use a list comprehension to add 'cat0' to each category_id\n",
    "cat_ids = ['cat0' + str(cat_id) for cat_id in category_ids]\n",
    "\n",
    "#Use a list comprehension to add 'cat0' to each sub-category_id\n",
    "scat_ids = ['cat0' + str(scat_id) for scat_id in subcategory_ids]\n",
    "\n",
    "print(cat_ids)\n",
    "print(scat_ids)"
   ]
  },
  {
   "cell_type": "code",
   "execution_count": 40,
   "metadata": {},
   "outputs": [],
   "source": [
    "#Create a category dataframe with the cat_ids array as the category_id and categories list as the category name\n",
    "category_df = pd.DataFrame({'category_ids': cat_ids, 'category': categories})\n",
    "\n",
    "#Create a sub-category dataframe with the scat_ids array as the sub-category_id and categories list as the sub-category name\n",
    "subcategory_df = pd.DataFrame({'sub-category_ids': scat_ids, 'sub-category': subcategories})"
   ]
  },
  {
   "cell_type": "code",
   "execution_count": 41,
   "metadata": {},
   "outputs": [
    {
     "data": {
      "text/html": [
       "<div>\n",
       "<style scoped>\n",
       "    .dataframe tbody tr th:only-of-type {\n",
       "        vertical-align: middle;\n",
       "    }\n",
       "\n",
       "    .dataframe tbody tr th {\n",
       "        vertical-align: top;\n",
       "    }\n",
       "\n",
       "    .dataframe thead th {\n",
       "        text-align: right;\n",
       "    }\n",
       "</style>\n",
       "<table border=\"1\" class=\"dataframe\">\n",
       "  <thead>\n",
       "    <tr style=\"text-align: right;\">\n",
       "      <th></th>\n",
       "      <th>category_ids</th>\n",
       "      <th>category</th>\n",
       "    </tr>\n",
       "  </thead>\n",
       "  <tbody>\n",
       "    <tr>\n",
       "      <th>8</th>\n",
       "      <td>cat09</td>\n",
       "      <td>journalism</td>\n",
       "    </tr>\n",
       "    <tr>\n",
       "      <th>0</th>\n",
       "      <td>cat01</td>\n",
       "      <td>food</td>\n",
       "    </tr>\n",
       "    <tr>\n",
       "      <th>3</th>\n",
       "      <td>cat04</td>\n",
       "      <td>theater</td>\n",
       "    </tr>\n",
       "    <tr>\n",
       "      <th>2</th>\n",
       "      <td>cat03</td>\n",
       "      <td>technology</td>\n",
       "    </tr>\n",
       "    <tr>\n",
       "      <th>7</th>\n",
       "      <td>cat08</td>\n",
       "      <td>photography</td>\n",
       "    </tr>\n",
       "  </tbody>\n",
       "</table>\n",
       "</div>"
      ],
      "text/plain": [
       "  category_ids     category\n",
       "8        cat09   journalism\n",
       "0        cat01         food\n",
       "3        cat04      theater\n",
       "2        cat03   technology\n",
       "7        cat08  photography"
      ]
     },
     "execution_count": 41,
     "metadata": {},
     "output_type": "execute_result"
    }
   ],
   "source": [
    "category_df.sample(5)"
   ]
  },
  {
   "cell_type": "code",
   "execution_count": 42,
   "metadata": {},
   "outputs": [
    {
     "data": {
      "text/html": [
       "<div>\n",
       "<style scoped>\n",
       "    .dataframe tbody tr th:only-of-type {\n",
       "        vertical-align: middle;\n",
       "    }\n",
       "\n",
       "    .dataframe tbody tr th {\n",
       "        vertical-align: top;\n",
       "    }\n",
       "\n",
       "    .dataframe thead th {\n",
       "        text-align: right;\n",
       "    }\n",
       "</style>\n",
       "<table border=\"1\" class=\"dataframe\">\n",
       "  <thead>\n",
       "    <tr style=\"text-align: right;\">\n",
       "      <th></th>\n",
       "      <th>sub-category_ids</th>\n",
       "      <th>sub-category</th>\n",
       "    </tr>\n",
       "  </thead>\n",
       "  <tbody>\n",
       "    <tr>\n",
       "      <th>1</th>\n",
       "      <td>cat02</td>\n",
       "      <td>rock</td>\n",
       "    </tr>\n",
       "    <tr>\n",
       "      <th>20</th>\n",
       "      <td>cat021</td>\n",
       "      <td>mobile games</td>\n",
       "    </tr>\n",
       "    <tr>\n",
       "      <th>14</th>\n",
       "      <td>cat015</td>\n",
       "      <td>photography books</td>\n",
       "    </tr>\n",
       "    <tr>\n",
       "      <th>6</th>\n",
       "      <td>cat07</td>\n",
       "      <td>drama</td>\n",
       "    </tr>\n",
       "    <tr>\n",
       "      <th>21</th>\n",
       "      <td>cat022</td>\n",
       "      <td>world music</td>\n",
       "    </tr>\n",
       "  </tbody>\n",
       "</table>\n",
       "</div>"
      ],
      "text/plain": [
       "   sub-category_ids       sub-category\n",
       "1             cat02               rock\n",
       "20           cat021       mobile games\n",
       "14           cat015  photography books\n",
       "6             cat07              drama\n",
       "21           cat022        world music"
      ]
     },
     "execution_count": 42,
     "metadata": {},
     "output_type": "execute_result"
    }
   ],
   "source": [
    "subcategory_df.sample(5)"
   ]
  },
  {
   "cell_type": "code",
   "execution_count": 45,
   "metadata": {},
   "outputs": [],
   "source": [
    "#Export dataframes as csv files\n",
    "category_df.to_csv('categories.csv', index=False)\n",
    "subcategory_df.to_csv('sub-categories.csv', index=False)"
   ]
  }
 ],
 "metadata": {
  "kernelspec": {
   "display_name": "Python 3.9.12 ('base')",
   "language": "python",
   "name": "python3"
  },
  "language_info": {
   "codemirror_mode": {
    "name": "ipython",
    "version": 3
   },
   "file_extension": ".py",
   "mimetype": "text/x-python",
   "name": "python",
   "nbconvert_exporter": "python",
   "pygments_lexer": "ipython3",
   "version": "3.9.12"
  },
  "orig_nbformat": 4,
  "vscode": {
   "interpreter": {
    "hash": "335ee12212264728feb72f243af72c5a8ea26c832f07e1f651ce9e17c7ceae23"
   }
  }
 },
 "nbformat": 4,
 "nbformat_minor": 2
}
